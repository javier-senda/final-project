{
 "cells": [
  {
   "cell_type": "code",
   "execution_count": 36,
   "id": "0bac7c1c",
   "metadata": {},
   "outputs": [],
   "source": [
    "import pandas as pd\n",
    "import numpy as np"
   ]
  },
  {
   "cell_type": "code",
   "execution_count": 37,
   "id": "c0eedd62",
   "metadata": {},
   "outputs": [
    {
     "data": {
      "text/plain": [
       "Index(['id', 'title', 'description', 'location_area', 'company_display_name',\n",
       "       'category_tag', 'contract_time', 'salary_min', 'salary_max',\n",
       "       'salary_is_predicted', 'created', 'latitude', 'longitude',\n",
       "       'redirect_url', 'is_good', 'description_full', 'remote',\n",
       "       'permanent_contract', 'freelance', 'bonuses', 'career_development',\n",
       "       'immediate_start', 'startup', 'multinational',\n",
       "       'consulting_or_outsourcing', 'experience_gt_5', 'intern', 'junior',\n",
       "       'senior', 'lead', 'principal_or_manager', 'higher_education',\n",
       "       'certifications_required', 'software_development', 'data_science_ml',\n",
       "       'cybersecurity', 'qa_testing', 'it_support_infrastructure',\n",
       "       'project_product_management', 'ux_ui_design', 'intern_title',\n",
       "       'junior_title', 'senior_title', 'lead_title',\n",
       "       'principal_or_manager_title'],\n",
       "      dtype='object')"
      ]
     },
     "execution_count": 37,
     "metadata": {},
     "output_type": "execute_result"
    }
   ],
   "source": [
    "# Lista de los valores únicos\n",
    "\n",
    "df=pd.read_csv(\"../data/interim/modelado_FINAL.csv\")\n",
    "\n",
    "df.columns"
   ]
  },
  {
   "cell_type": "code",
   "execution_count": 38,
   "id": "121f8733",
   "metadata": {},
   "outputs": [],
   "source": [
    "columns_to_drop = ['description', 'category_tag', 'salary_is_predicted', 'is_good']\n",
    "df = df.drop(columns=columns_to_drop)"
   ]
  },
  {
   "cell_type": "code",
   "execution_count": 39,
   "id": "9d7408e0",
   "metadata": {},
   "outputs": [
    {
     "data": {
      "text/plain": [
       "['id',\n",
       " 'title',\n",
       " 'location_area',\n",
       " 'company_display_name',\n",
       " 'contract_time',\n",
       " 'salary_min',\n",
       " 'salary_max',\n",
       " 'created',\n",
       " 'latitude',\n",
       " 'longitude',\n",
       " 'redirect_url',\n",
       " 'description_full',\n",
       " 'remote',\n",
       " 'permanent_contract',\n",
       " 'freelance',\n",
       " 'bonuses',\n",
       " 'career_development',\n",
       " 'immediate_start',\n",
       " 'startup',\n",
       " 'multinational',\n",
       " 'consulting_or_outsourcing',\n",
       " 'experience_gt_5',\n",
       " 'intern',\n",
       " 'junior',\n",
       " 'senior',\n",
       " 'lead',\n",
       " 'principal_or_manager',\n",
       " 'higher_education',\n",
       " 'certifications_required',\n",
       " 'software_development',\n",
       " 'data_science_ml',\n",
       " 'cybersecurity',\n",
       " 'qa_testing',\n",
       " 'it_support_infrastructure',\n",
       " 'project_product_management',\n",
       " 'ux_ui_design',\n",
       " 'intern_title',\n",
       " 'junior_title',\n",
       " 'senior_title',\n",
       " 'lead_title',\n",
       " 'principal_or_manager_title']"
      ]
     },
     "execution_count": 39,
     "metadata": {},
     "output_type": "execute_result"
    }
   ],
   "source": [
    "df.columns.to_list()"
   ]
  },
  {
   "cell_type": "markdown",
   "id": "292f2467",
   "metadata": {},
   "source": [
    "## Limpiando el seniority"
   ]
  },
  {
   "cell_type": "code",
   "execution_count": 40,
   "id": "d7db2362",
   "metadata": {},
   "outputs": [],
   "source": [
    "# Crear la columna salary_avg como media de salary_min y salary_max\n",
    "df[\"salary_avg\"] = df[[\"salary_min\", \"salary_max\"]].mean(axis=1)\n",
    "\n",
    "# Columnas relacionadas con seniority (scores y títulos)\n",
    "seniority_levels = [\"intern\", \"junior\", \"senior\", \"lead\", \"principal_or_manager\"]\n",
    "title_columns = [f\"{level}_title\" for level in seniority_levels]\n",
    "\n",
    "# Calcular la media de salary_avg por cada nivel de seniority, cuando ese nivel es el dominante\n",
    "salary_avg_means = {}\n",
    "for level in seniority_levels:\n",
    "    # Selecciona filas donde ese nivel es el dominante (valor más alto)\n",
    "    is_dominant = df[level] >= df[[lvl for lvl in seniority_levels if lvl != level]].max(axis=1)\n",
    "    salary_avg_means[level] = df[is_dominant][\"salary_avg\"].mean()\n",
    "\n",
    "# Mapeo de jerarquía\n",
    "seniority_ranks = {level: i for i, level in enumerate(seniority_levels)}\n",
    "\n",
    "# Función para determinar el seniority\n",
    "def determine_seniority(row):\n",
    "    # Si algún título es 1, elegimos el de mayor jerarquía\n",
    "    titles = {level: row[f\"{level}_title\"] for level in seniority_levels}\n",
    "    active_titles = [level for level, val in titles.items() if val == 1]\n",
    "    if active_titles:\n",
    "        return max(active_titles, key=lambda x: seniority_ranks[x])\n",
    "    \n",
    "    # Si no hay título, usamos los scores\n",
    "    scores = {level: row[level] for level in seniority_levels}\n",
    "    max_level = max(scores, key=scores.get)\n",
    "    max_score = scores[max_level]\n",
    "    second_max = max([v for k, v in scores.items() if k != max_level], default=0)\n",
    "\n",
    "    # Si hay una diferencia clara en los scores\n",
    "    if max_score - second_max > 0.2:\n",
    "        return max_level\n",
    "    else:\n",
    "        # Comparar salary_avg con las medias por nivel\n",
    "        if pd.isna(row[\"salary_avg\"]):\n",
    "            return max_level  # no se puede comparar si salary_avg es NaN\n",
    "\n",
    "        # Solo niveles con media disponible\n",
    "        diffs = {\n",
    "            level: abs(row[\"salary_avg\"] - salary_avg_means[level])\n",
    "            for level in seniority_levels\n",
    "            if not pd.isna(salary_avg_means[level])\n",
    "        }\n",
    "\n",
    "        if not diffs:\n",
    "            return max_level  # fallback si no hay medias disponibles\n",
    "\n",
    "        min_diff = min(diffs.values())\n",
    "        closest_levels = [level for level, diff in diffs.items() if diff == min_diff]\n",
    "\n",
    "        # Elegir el de mayor jerarquía si hay empate\n",
    "        return max(closest_levels, key=lambda x: seniority_ranks[x])\n",
    "\n",
    "\n",
    "# Aplicar la función\n",
    "df[\"seniority\"] = df.apply(determine_seniority, axis=1)\n"
   ]
  },
  {
   "cell_type": "code",
   "execution_count": 41,
   "id": "aaf4c18c",
   "metadata": {},
   "outputs": [],
   "source": [
    "columns_to_drop = [\"intern\", \"junior\", \"senior\", \"lead\", \"principal_or_manager\", \"intern_title\", \"junior_title\", \"senior_title\", \"lead_title\", \"principal_or_manager_title\"]\n",
    "df = df.drop(columns=columns_to_drop)"
   ]
  },
  {
   "cell_type": "code",
   "execution_count": 42,
   "id": "c9db596e",
   "metadata": {},
   "outputs": [
    {
     "data": {
      "text/plain": [
       "Index(['id', 'title', 'location_area', 'company_display_name', 'contract_time',\n",
       "       'salary_min', 'salary_max', 'created', 'latitude', 'longitude',\n",
       "       'redirect_url', 'description_full', 'remote', 'permanent_contract',\n",
       "       'freelance', 'bonuses', 'career_development', 'immediate_start',\n",
       "       'startup', 'multinational', 'consulting_or_outsourcing',\n",
       "       'experience_gt_5', 'higher_education', 'certifications_required',\n",
       "       'software_development', 'data_science_ml', 'cybersecurity',\n",
       "       'qa_testing', 'it_support_infrastructure', 'project_product_management',\n",
       "       'ux_ui_design', 'salary_avg', 'seniority'],\n",
       "      dtype='object')"
      ]
     },
     "execution_count": 42,
     "metadata": {},
     "output_type": "execute_result"
    }
   ],
   "source": [
    "df.columns"
   ]
  },
  {
   "cell_type": "markdown",
   "id": "99f0a911",
   "metadata": {},
   "source": [
    "## Dividiendo location_area"
   ]
  },
  {
   "cell_type": "code",
   "execution_count": 43,
   "id": "500fa5e5",
   "metadata": {},
   "outputs": [
    {
     "data": {
      "text/plain": [
       "0          US, Ohio, Franklin County, Grandview Heights\n",
       "1      US, Massachusetts, Middlesex County, Marlborough\n",
       "2                  US, New York, Orange County, Chester\n",
       "3                 US, Wisconsin, Kenosha County, Trevor\n",
       "4              US, Wisconsin, Racine County, Burlington\n",
       "5                US, Illinois, Lake County, Great Lakes\n",
       "6         US, Illinois, Lake County, Lincolnshire Woods\n",
       "7                US, Wisconsin, Kenosha County, Kenosha\n",
       "8                       US, Illinois, Lake County, Park\n",
       "9            US, Illinois, Lake County, Winthrop Harbor\n",
       "10          US, California, San Diego County, Escondido\n",
       "11                US, Washington, King County, Westwood\n",
       "12                                                   US\n",
       "13                US, Virginia, Fairfax County, Herndon\n",
       "14          US, California, San Diego County, Oceanside\n",
       "15                                                   US\n",
       "16                        US, California, San Francisco\n",
       "17                                                   US\n",
       "18          US, California, Riverside County, Riverside\n",
       "19                  US, Illinois, Cook County, Wheeling\n",
       "20              US, Virginia, Arlington County, Crystal\n",
       "21                 US, Michigan, Ingham County, Lansing\n",
       "22                          US, New York, New York City\n",
       "23    US, Pennsylvania, Cumberland County, Williams Grv\n",
       "24      US, Maryland, Prince George's County, Oxon Hill\n",
       "25               US, New Jersey, Mercer County, Trenton\n",
       "26                 US, Washington, King County, Redmond\n",
       "27    US, California, Los Angeles County, Windsor Hills\n",
       "28          US, Maryland, Anne Arundel County, Maryland\n",
       "29                 US, Virginia, Fairfax County, Reston\n",
       "30                         US, Hawaii, Honolulu, Kailua\n",
       "31                                          US, Georgia\n",
       "32                                                   US\n",
       "33             US, North Carolina, Wake County, Raleigh\n",
       "34                           US, Texas, Dallas, Coppell\n",
       "35                                                   US\n",
       "36                     US, Texas, Dallas, Cockrell Hill\n",
       "37    US, North Carolina, Mecklenburg County, Charlotte\n",
       "38       US, Colorado, El Paso County, Colorado Springs\n",
       "39                          US, New York, New York City\n",
       "40          US, New York, Rensselaer County, Rensselaer\n",
       "41       US, New Jersey, Atlantic County, Atlantic City\n",
       "42    US, Maryland, Prince George's County, Forest H...\n",
       "43                                 US, Colorado, Denver\n",
       "44             US, New York, Dutchess County, Arlington\n",
       "45                     US, Texas, Dallas, Highland Park\n",
       "46                       US, Indiana, Lake County, Gary\n",
       "47            US, Virginia, Arlington County, Arlington\n",
       "48             US, Tennessee, Putnam County, Cookeville\n",
       "49                                                   US\n",
       "Name: location_area, dtype: object"
      ]
     },
     "execution_count": 43,
     "metadata": {},
     "output_type": "execute_result"
    }
   ],
   "source": [
    "df[\"location_area\"]"
   ]
  },
  {
   "cell_type": "code",
   "execution_count": null,
   "id": "033a624f",
   "metadata": {},
   "outputs": [],
   "source": [
    "# Eliminar 'US, ' de la columna location_area\n",
    "df['location_area'] = df['location_area'].str.replace('US, ', '', regex=False)\n",
    "\n",
    "# Dividir la columna location_area en partes, separadas por comas\n",
    "split_location = df['location_area'].str.split(',', expand=True)\n",
    "\n",
    "# Asegurarse de que las filas con menos de tres partes tengan valores NaN o None\n",
    "split_location = split_location.rename(columns={0: 'state', 1: 'county', 2: 'city'})\n",
    "\n",
    "# Limpiar los espacios en blanco en cada nueva columna\n",
    "split_location['state'] = split_location['state'].str.strip()\n",
    "split_location['county'] = split_location['county'].str.strip()\n",
    "split_location['city'] = split_location['city'].str.strip()\n",
    "\n",
    "# Reemplazar valores vacíos con None\n",
    "split_location['state'] = split_location['state'].replace('', None)\n",
    "split_location['county'] = split_location['county'].replace('', None)\n",
    "split_location['city'] = split_location['city'].replace('', None)\n",
    "\n",
    "# Unir las columnas resultantes de nuevo al dataframe original\n",
    "df = df.join(split_location)\n",
    "\n"
   ]
  },
  {
   "cell_type": "code",
   "execution_count": 50,
   "id": "930dad97",
   "metadata": {},
   "outputs": [],
   "source": [
    "df = df.drop('location_area', axis=1)"
   ]
  },
  {
   "cell_type": "code",
   "execution_count": 51,
   "id": "5ef29a71",
   "metadata": {},
   "outputs": [
    {
     "data": {
      "text/plain": [
       "Index(['id', 'title', 'company_display_name', 'contract_time', 'salary_min',\n",
       "       'salary_max', 'created', 'latitude', 'longitude', 'redirect_url',\n",
       "       'description_full', 'remote', 'permanent_contract', 'freelance',\n",
       "       'bonuses', 'career_development', 'immediate_start', 'startup',\n",
       "       'multinational', 'consulting_or_outsourcing', 'experience_gt_5',\n",
       "       'higher_education', 'certifications_required', 'software_development',\n",
       "       'data_science_ml', 'cybersecurity', 'qa_testing',\n",
       "       'it_support_infrastructure', 'project_product_management',\n",
       "       'ux_ui_design', 'salary_avg', 'seniority', 'state', 'county', 'city'],\n",
       "      dtype='object')"
      ]
     },
     "execution_count": 51,
     "metadata": {},
     "output_type": "execute_result"
    }
   ],
   "source": [
    "df.columns"
   ]
  },
  {
   "cell_type": "markdown",
   "id": "18104787",
   "metadata": {},
   "source": [
    "## Aplicando thresholds"
   ]
  },
  {
   "cell_type": "code",
   "execution_count": null,
   "id": "156bde00",
   "metadata": {},
   "outputs": [],
   "source": [
    "bonus_threshold = 0.9\n",
    "career_development_threshold = 0.9\n",
    "freelance_threshold = 0.6\n"
   ]
  }
 ],
 "metadata": {
  "kernelspec": {
   "display_name": "mi_entorno",
   "language": "python",
   "name": "python3"
  },
  "language_info": {
   "codemirror_mode": {
    "name": "ipython",
    "version": 3
   },
   "file_extension": ".py",
   "mimetype": "text/x-python",
   "name": "python",
   "nbconvert_exporter": "python",
   "pygments_lexer": "ipython3",
   "version": "3.11.11"
  }
 },
 "nbformat": 4,
 "nbformat_minor": 5
}
