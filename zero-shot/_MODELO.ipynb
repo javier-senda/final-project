{
 "cells": [
  {
   "cell_type": "code",
   "execution_count": 1,
   "id": "0688f4e6",
   "metadata": {},
   "outputs": [],
   "source": [
    "labels = {\n",
    "    # Modalidad de trabajo\n",
    "    \"remote\": [\n",
    "        \"The position allows remote work.\",\n",
    "        \"This is a fully remote job.\",\n",
    "        \"You can work from anywhere.\",\n",
    "    ],\n",
    "    \"permanent_contract\": [\n",
    "        \"The job offers a permanent contract.\",\n",
    "        \"This is a full-time position.\",\n",
    "    ],\n",
    "    \"freelance\": [\n",
    "        \"This job is freelance.\",\n",
    "        \"The position is for an independent contractor.\",\n",
    "    ],\n",
    "\n",
    "    # Beneficios y condiciones\n",
    "    \"bonuses\": [\n",
    "        \"The job offers performance bonuses.\",\n",
    "        \"You will receive bonuses based on results.\",\n",
    "        \"There are financial incentives in this position.\",\n",
    "    ],\n",
    "    \"career_development\": [\n",
    "        \"There are opportunities for professional growth.\",\n",
    "        \"The company supports career development.\",\n",
    "    ],\n",
    "    \"immediate_start\": [\n",
    "        \"The job requires immediate start.\",\n",
    "        \"The position must be filled urgently.\",\n",
    "        \"The company is looking for someone to start right away.\",\n",
    "    ],\n",
    "\n",
    "    # Tipo de empresa\n",
    "    \"startup\": [\n",
    "        \"The company is a startup.\",\n",
    "        \"You will be working in a fast-growing new company.\",\n",
    "        \"The role is at an early-stage company.\",\n",
    "    ],\n",
    "    \"multinational\": [\n",
    "        \"The company operates in multiple countries.\",\n",
    "        \"This is a multinational organization.\",\n",
    "        \"The employer has offices worldwide.\",\n",
    "    ],\n",
    "    \"consulting_or_outsourcing\": [\n",
    "        \"The job is in a consulting company.\",\n",
    "        \"You will work in an outsourcing services firm.\",\n",
    "        \"The company provides external services to clients.\",\n",
    "    ],\n",
    "\n",
    "    # Experiencia requerida\n",
    "    \"experience_gt_5\": [\n",
    "        \"You need more than five years of experience.\",\n",
    "        \"The job requires at least 5 years of work experience.\",\n",
    "        \"Senior professionals with over 5 years of experience are needed.\",\n",
    "    ],\n",
    "\n",
    "    # Nivel del puesto\n",
    "    \"intern\": [\n",
    "        \"The position is for an intern.\",\n",
    "        \"The role is aimed at students or recent graduates.\",\n",
    "    ],\n",
    "    \"junior\": [\n",
    "        \"The position is at junior level.\",\n",
    "        \"This role is for someone starting their career.\",\n",
    "    ],\n",
    "    \"senior\": [\n",
    "        \"This is a senior position.\",\n",
    "        \"The job requires significant experience.\",\n",
    "    ],\n",
    "    \"lead\": [\n",
    "        \"You will lead a team.\",\n",
    "        \"The position is for a technical or team lead.\",\n",
    "        \"You are expected to guide other professionals.\",\n",
    "    ],\n",
    "    \"principal_or_manager\": [\n",
    "        \"You will manage a department or team.\",\n",
    "        \"This is a managerial role.\",\n",
    "        \"You are responsible for strategic decisions.\",\n",
    "    ],\n",
    "\n",
    "    # Educación y certificaciones\n",
    "    \"higher_education\": [\n",
    "        \"A university degree is required.\",\n",
    "        \"The role requires a bachelor's, master's, or PhD.\",\n",
    "    ],\n",
    "    \"certifications_required\": [\n",
    "        \"Professional certifications are required.\",\n",
    "        \"You need official credentials or certifications.\",\n",
    "    ],\n",
    "\n",
    "    # Ámbitos profesionales\n",
    "    \"software_development\": [\n",
    "        \"The job is in software development.\",\n",
    "        \"You will be writing code or developing software.\",\n",
    "        \"The role involves programming.\",\n",
    "    ],\n",
    "    \"data_science_ml\": [\n",
    "        \"The position is in data science.\",\n",
    "        \"Machine learning is a part of this job.\",\n",
    "        \"You will analyze data or build ML models.\",\n",
    "    ],\n",
    "    \"cybersecurity\": [\n",
    "        \"The job is in cybersecurity.\",\n",
    "        \"The role involves protecting systems and data.\",\n",
    "        \"You will handle security threats.\",\n",
    "    ],\n",
    "    \"qa_testing\": [\n",
    "        \"You will be testing software for quality.\",\n",
    "        \"The job involves quality assurance.\",\n",
    "        \"You will perform tests to find bugs.\",\n",
    "    ],\n",
    "    \"it_support_infrastructure\": [\n",
    "        \"The job involves IT support.\",\n",
    "        \"You will maintain computer systems and networks.\",\n",
    "        \"Infrastructure management is part of the role.\",\n",
    "    ],\n",
    "    \"project_product_management\": [\n",
    "        \"The role involves managing projects or products.\",\n",
    "        \"You will be a product or project manager.\",\n",
    "        \"The position requires planning and coordination.\",\n",
    "    ],\n",
    "    \"ux_ui_design\": [\n",
    "        \"The job is in UX or UI design.\",\n",
    "        \"You will design user interfaces or experiences.\",\n",
    "        \"The role focuses on user-centered design.\",\n",
    "    ]\n",
    "}\n"
   ]
  },
  {
   "cell_type": "code",
   "execution_count": 2,
   "id": "7a6eab2c",
   "metadata": {},
   "outputs": [],
   "source": [
    "import pandas as pd\n",
    "from transformers import pipeline\n",
    "from tqdm import tqdm\n",
    "import torch\n",
    "import statistics\n",
    "import os"
   ]
  },
  {
   "cell_type": "code",
   "execution_count": 3,
   "id": "44393a62",
   "metadata": {},
   "outputs": [
    {
     "data": {
      "text/plain": [
       "(120784, 13)"
      ]
     },
     "execution_count": 3,
     "metadata": {},
     "output_type": "execute_result"
    }
   ],
   "source": [
    "df = pd.read_csv('LIMPIO.csv')\n",
    "df.shape"
   ]
  },
  {
   "cell_type": "code",
   "execution_count": 5,
   "id": "ce761bc3",
   "metadata": {},
   "outputs": [
    {
     "name": "stderr",
     "output_type": "stream",
     "text": [
      "Device set to use cuda:0\n",
      "🔍 Procesando descripciones:   1%|          | 1000/120784 [47:31<146:37:10,  4.41s/it]"
     ]
    },
    {
     "name": "stdout",
     "output_type": "stream",
     "text": [
      "\n",
      "✅ Guardado parcial en fila 1000\n",
      "💾 Checkpoint guardado en fila 1000\n"
     ]
    },
    {
     "name": "stderr",
     "output_type": "stream",
     "text": [
      "🔍 Procesando descripciones:   2%|▏         | 2000/120784 [1:45:40<92:25:10,  2.80s/it] "
     ]
    },
    {
     "name": "stdout",
     "output_type": "stream",
     "text": [
      "\n",
      "✅ Guardado parcial en fila 2000\n",
      "💾 Checkpoint guardado en fila 2000\n"
     ]
    },
    {
     "name": "stderr",
     "output_type": "stream",
     "text": [
      "🔍 Procesando descripciones:   2%|▏         | 3000/120784 [2:46:15<100:12:22,  3.06s/it]"
     ]
    },
    {
     "name": "stdout",
     "output_type": "stream",
     "text": [
      "\n",
      "✅ Guardado parcial en fila 3000\n",
      "💾 Checkpoint guardado en fila 3000\n"
     ]
    },
    {
     "name": "stderr",
     "output_type": "stream",
     "text": [
      "🔍 Procesando descripciones:   3%|▎         | 4000/120784 [4:07:27<175:13:07,  5.40s/it]"
     ]
    },
    {
     "name": "stdout",
     "output_type": "stream",
     "text": [
      "\n",
      "✅ Guardado parcial en fila 4000\n",
      "💾 Checkpoint guardado en fila 4000\n"
     ]
    },
    {
     "name": "stderr",
     "output_type": "stream",
     "text": [
      "🔍 Procesando descripciones:   4%|▍         | 5000/120784 [5:31:45<158:11:57,  4.92s/it]"
     ]
    },
    {
     "name": "stdout",
     "output_type": "stream",
     "text": [
      "\n",
      "✅ Guardado parcial en fila 5000\n",
      "💾 Checkpoint guardado en fila 5000\n"
     ]
    },
    {
     "name": "stderr",
     "output_type": "stream",
     "text": [
      "🔍 Procesando descripciones:   5%|▍         | 6000/120784 [7:02:13<178:42:19,  5.60s/it]"
     ]
    },
    {
     "name": "stdout",
     "output_type": "stream",
     "text": [
      "\n",
      "✅ Guardado parcial en fila 6000\n",
      "💾 Checkpoint guardado en fila 6000\n"
     ]
    },
    {
     "name": "stderr",
     "output_type": "stream",
     "text": [
      "🔍 Procesando descripciones:   6%|▌         | 7000/120784 [8:34:42<186:08:38,  5.89s/it]"
     ]
    },
    {
     "name": "stdout",
     "output_type": "stream",
     "text": [
      "\n",
      "✅ Guardado parcial en fila 7000\n",
      "💾 Checkpoint guardado en fila 7000\n"
     ]
    },
    {
     "name": "stderr",
     "output_type": "stream",
     "text": [
      "🔍 Procesando descripciones:   7%|▋         | 8000/120784 [10:05:34<104:05:10,  3.32s/it]"
     ]
    },
    {
     "name": "stdout",
     "output_type": "stream",
     "text": [
      "\n",
      "✅ Guardado parcial en fila 8000\n",
      "💾 Checkpoint guardado en fila 8000\n"
     ]
    },
    {
     "name": "stderr",
     "output_type": "stream",
     "text": [
      "🔍 Procesando descripciones:   7%|▋         | 9000/120784 [11:24:43<174:30:04,  5.62s/it]"
     ]
    },
    {
     "name": "stdout",
     "output_type": "stream",
     "text": [
      "\n",
      "✅ Guardado parcial en fila 9000\n",
      "💾 Checkpoint guardado en fila 9000\n"
     ]
    },
    {
     "name": "stderr",
     "output_type": "stream",
     "text": [
      "🔍 Procesando descripciones:   8%|▊         | 10000/120784 [12:49:07<174:19:30,  5.66s/it]"
     ]
    },
    {
     "name": "stdout",
     "output_type": "stream",
     "text": [
      "\n",
      "✅ Guardado parcial en fila 10000\n",
      "💾 Checkpoint guardado en fila 10000\n"
     ]
    },
    {
     "name": "stderr",
     "output_type": "stream",
     "text": [
      "🔍 Procesando descripciones:   9%|▉         | 11000/120784 [14:13:16<144:45:45,  4.75s/it]"
     ]
    },
    {
     "name": "stdout",
     "output_type": "stream",
     "text": [
      "\n",
      "✅ Guardado parcial en fila 11000\n",
      "💾 Checkpoint guardado en fila 11000\n"
     ]
    },
    {
     "name": "stderr",
     "output_type": "stream",
     "text": [
      "🔍 Procesando descripciones:  10%|▉         | 12000/120784 [15:25:16<127:03:25,  4.20s/it]"
     ]
    },
    {
     "name": "stdout",
     "output_type": "stream",
     "text": [
      "\n",
      "✅ Guardado parcial en fila 12000\n",
      "💾 Checkpoint guardado en fila 12000\n"
     ]
    },
    {
     "name": "stderr",
     "output_type": "stream",
     "text": [
      "🔍 Procesando descripciones:  11%|█         | 13000/120784 [16:40:52<128:41:57,  4.30s/it]"
     ]
    },
    {
     "name": "stdout",
     "output_type": "stream",
     "text": [
      "\n",
      "✅ Guardado parcial en fila 13000\n",
      "💾 Checkpoint guardado en fila 13000\n"
     ]
    },
    {
     "name": "stderr",
     "output_type": "stream",
     "text": [
      "🔍 Procesando descripciones:  12%|█▏        | 14000/120784 [17:58:19<94:01:11,  3.17s/it] "
     ]
    },
    {
     "name": "stdout",
     "output_type": "stream",
     "text": [
      "\n",
      "✅ Guardado parcial en fila 14000\n",
      "💾 Checkpoint guardado en fila 14000\n"
     ]
    },
    {
     "name": "stderr",
     "output_type": "stream",
     "text": [
      "🔍 Procesando descripciones:  12%|█▏        | 15000/120784 [19:14:29<91:20:39,  3.11s/it] "
     ]
    },
    {
     "name": "stdout",
     "output_type": "stream",
     "text": [
      "\n",
      "✅ Guardado parcial en fila 15000\n",
      "💾 Checkpoint guardado en fila 15000\n"
     ]
    },
    {
     "name": "stderr",
     "output_type": "stream",
     "text": [
      "🔍 Procesando descripciones:  13%|█▎        | 16000/120784 [20:29:43<161:26:26,  5.55s/it]"
     ]
    },
    {
     "name": "stdout",
     "output_type": "stream",
     "text": [
      "\n",
      "✅ Guardado parcial en fila 16000\n",
      "💾 Checkpoint guardado en fila 16000\n"
     ]
    },
    {
     "name": "stderr",
     "output_type": "stream",
     "text": [
      "🔍 Procesando descripciones:  14%|█▍        | 17000/120784 [21:48:50<158:06:55,  5.48s/it]"
     ]
    },
    {
     "name": "stdout",
     "output_type": "stream",
     "text": [
      "\n",
      "✅ Guardado parcial en fila 17000\n",
      "💾 Checkpoint guardado en fila 17000\n"
     ]
    },
    {
     "name": "stderr",
     "output_type": "stream",
     "text": [
      "🔍 Procesando descripciones:  15%|█▍        | 18000/120784 [23:07:41<147:32:47,  5.17s/it]"
     ]
    },
    {
     "name": "stdout",
     "output_type": "stream",
     "text": [
      "\n",
      "✅ Guardado parcial en fila 18000\n",
      "💾 Checkpoint guardado en fila 18000\n"
     ]
    },
    {
     "name": "stderr",
     "output_type": "stream",
     "text": [
      "🔍 Procesando descripciones:  16%|█▌        | 19000/120784 [24:26:46<160:38:36,  5.68s/it]"
     ]
    },
    {
     "name": "stdout",
     "output_type": "stream",
     "text": [
      "\n",
      "✅ Guardado parcial en fila 19000\n",
      "💾 Checkpoint guardado en fila 19000\n"
     ]
    },
    {
     "name": "stderr",
     "output_type": "stream",
     "text": [
      "🔍 Procesando descripciones:  17%|█▋        | 20000/120784 [25:45:45<121:14:40,  4.33s/it]"
     ]
    },
    {
     "name": "stdout",
     "output_type": "stream",
     "text": [
      "\n",
      "✅ Guardado parcial en fila 20000\n",
      "💾 Checkpoint guardado en fila 20000\n"
     ]
    },
    {
     "name": "stderr",
     "output_type": "stream",
     "text": [
      "🔍 Procesando descripciones:  17%|█▋        | 21000/120784 [27:06:46<145:47:37,  5.26s/it]"
     ]
    },
    {
     "name": "stdout",
     "output_type": "stream",
     "text": [
      "\n",
      "✅ Guardado parcial en fila 21000\n",
      "💾 Checkpoint guardado en fila 21000\n"
     ]
    },
    {
     "name": "stderr",
     "output_type": "stream",
     "text": [
      "🔍 Procesando descripciones:  18%|█▊        | 22000/120784 [28:27:27<135:13:55,  4.93s/it]"
     ]
    },
    {
     "name": "stdout",
     "output_type": "stream",
     "text": [
      "\n",
      "✅ Guardado parcial en fila 22000\n",
      "💾 Checkpoint guardado en fila 22000\n"
     ]
    },
    {
     "name": "stderr",
     "output_type": "stream",
     "text": [
      "🔍 Procesando descripciones:  19%|█▉        | 23000/120784 [29:51:02<142:04:57,  5.23s/it]"
     ]
    },
    {
     "name": "stdout",
     "output_type": "stream",
     "text": [
      "\n",
      "✅ Guardado parcial en fila 23000\n",
      "💾 Checkpoint guardado en fila 23000\n"
     ]
    },
    {
     "name": "stderr",
     "output_type": "stream",
     "text": [
      "🔍 Procesando descripciones:  20%|█▉        | 24000/120784 [31:15:30<143:36:21,  5.34s/it]"
     ]
    },
    {
     "name": "stdout",
     "output_type": "stream",
     "text": [
      "\n",
      "✅ Guardado parcial en fila 24000\n",
      "💾 Checkpoint guardado en fila 24000\n"
     ]
    },
    {
     "name": "stderr",
     "output_type": "stream",
     "text": [
      "🔍 Procesando descripciones:  21%|██        | 25000/120784 [32:38:15<125:58:56,  4.73s/it]"
     ]
    },
    {
     "name": "stdout",
     "output_type": "stream",
     "text": [
      "\n",
      "✅ Guardado parcial en fila 25000\n",
      "💾 Checkpoint guardado en fila 25000\n"
     ]
    },
    {
     "name": "stderr",
     "output_type": "stream",
     "text": [
      "🔍 Procesando descripciones:  22%|██▏       | 26000/120784 [34:01:39<70:31:28,  2.68s/it] "
     ]
    },
    {
     "name": "stdout",
     "output_type": "stream",
     "text": [
      "\n",
      "✅ Guardado parcial en fila 26000\n",
      "💾 Checkpoint guardado en fila 26000\n"
     ]
    },
    {
     "name": "stderr",
     "output_type": "stream",
     "text": [
      "🔍 Procesando descripciones:  22%|██▏       | 27000/120784 [35:25:03<116:35:25,  4.48s/it]"
     ]
    },
    {
     "name": "stdout",
     "output_type": "stream",
     "text": [
      "\n",
      "✅ Guardado parcial en fila 27000\n",
      "💾 Checkpoint guardado en fila 27000\n"
     ]
    },
    {
     "name": "stderr",
     "output_type": "stream",
     "text": [
      "🔍 Procesando descripciones:  23%|██▎       | 28000/120784 [36:44:46<114:03:20,  4.43s/it]"
     ]
    },
    {
     "name": "stdout",
     "output_type": "stream",
     "text": [
      "\n",
      "✅ Guardado parcial en fila 28000\n",
      "💾 Checkpoint guardado en fila 28000\n"
     ]
    },
    {
     "name": "stderr",
     "output_type": "stream",
     "text": [
      "🔍 Procesando descripciones:  24%|██▍       | 29000/120784 [37:47:22<128:30:25,  5.04s/it]"
     ]
    },
    {
     "name": "stdout",
     "output_type": "stream",
     "text": [
      "\n",
      "✅ Guardado parcial en fila 29000\n",
      "💾 Checkpoint guardado en fila 29000\n"
     ]
    },
    {
     "name": "stderr",
     "output_type": "stream",
     "text": [
      "🔍 Procesando descripciones:  25%|██▍       | 30000/120784 [38:43:12<82:28:40,  3.27s/it] "
     ]
    },
    {
     "name": "stdout",
     "output_type": "stream",
     "text": [
      "\n",
      "✅ Guardado parcial en fila 30000\n",
      "💾 Checkpoint guardado en fila 30000\n"
     ]
    },
    {
     "name": "stderr",
     "output_type": "stream",
     "text": [
      "🔍 Procesando descripciones:  26%|██▌       | 31000/120784 [39:45:19<113:28:41,  4.55s/it]"
     ]
    },
    {
     "name": "stdout",
     "output_type": "stream",
     "text": [
      "\n",
      "✅ Guardado parcial en fila 31000\n",
      "💾 Checkpoint guardado en fila 31000\n"
     ]
    },
    {
     "name": "stderr",
     "output_type": "stream",
     "text": [
      "🔍 Procesando descripciones:  26%|██▋       | 32000/120784 [40:49:23<72:51:39,  2.95s/it] "
     ]
    },
    {
     "name": "stdout",
     "output_type": "stream",
     "text": [
      "\n",
      "✅ Guardado parcial en fila 32000\n",
      "💾 Checkpoint guardado en fila 32000\n"
     ]
    },
    {
     "name": "stderr",
     "output_type": "stream",
     "text": [
      "🔍 Procesando descripciones:  27%|██▋       | 33000/120784 [41:50:15<90:14:07,  3.70s/it] "
     ]
    },
    {
     "name": "stdout",
     "output_type": "stream",
     "text": [
      "\n",
      "✅ Guardado parcial en fila 33000\n",
      "💾 Checkpoint guardado en fila 33000\n"
     ]
    },
    {
     "name": "stderr",
     "output_type": "stream",
     "text": [
      "🔍 Procesando descripciones:  28%|██▊       | 34000/120784 [42:57:28<91:50:43,  3.81s/it] "
     ]
    },
    {
     "name": "stdout",
     "output_type": "stream",
     "text": [
      "\n",
      "✅ Guardado parcial en fila 34000\n",
      "💾 Checkpoint guardado en fila 34000\n"
     ]
    },
    {
     "name": "stderr",
     "output_type": "stream",
     "text": [
      "🔍 Procesando descripciones:  29%|██▉       | 35000/120784 [43:59:32<79:34:35,  3.34s/it] "
     ]
    },
    {
     "name": "stdout",
     "output_type": "stream",
     "text": [
      "\n",
      "✅ Guardado parcial en fila 35000\n",
      "💾 Checkpoint guardado en fila 35000\n"
     ]
    },
    {
     "name": "stderr",
     "output_type": "stream",
     "text": [
      "🔍 Procesando descripciones:  30%|██▉       | 36000/120784 [45:05:22<105:14:47,  4.47s/it]"
     ]
    },
    {
     "name": "stdout",
     "output_type": "stream",
     "text": [
      "\n",
      "✅ Guardado parcial en fila 36000\n",
      "💾 Checkpoint guardado en fila 36000\n"
     ]
    },
    {
     "name": "stderr",
     "output_type": "stream",
     "text": [
      "🔍 Procesando descripciones:  31%|███       | 37000/120784 [46:07:22<105:40:06,  4.54s/it]"
     ]
    },
    {
     "name": "stdout",
     "output_type": "stream",
     "text": [
      "\n",
      "✅ Guardado parcial en fila 37000\n",
      "💾 Checkpoint guardado en fila 37000\n"
     ]
    },
    {
     "name": "stderr",
     "output_type": "stream",
     "text": [
      "🔍 Procesando descripciones:  31%|███       | 37053/120784 [46:10:39<99:24:09,  4.27s/it] "
     ]
    },
    {
     "name": "stdout",
     "output_type": "stream",
     "text": [
      "\n",
      "⚠️ Error en desc 37053: You must include at least one label and at least one sequence....\n"
     ]
    },
    {
     "name": "stderr",
     "output_type": "stream",
     "text": [
      "🔍 Procesando descripciones:  31%|███▏      | 38000/120784 [47:08:31<89:20:47,  3.89s/it] "
     ]
    },
    {
     "name": "stdout",
     "output_type": "stream",
     "text": [
      "\n",
      "✅ Guardado parcial en fila 38000\n",
      "💾 Checkpoint guardado en fila 38000\n"
     ]
    },
    {
     "name": "stderr",
     "output_type": "stream",
     "text": [
      "🔍 Procesando descripciones:  32%|███▏      | 39000/120784 [48:10:39<87:22:26,  3.85s/it] "
     ]
    },
    {
     "name": "stdout",
     "output_type": "stream",
     "text": [
      "\n",
      "✅ Guardado parcial en fila 39000\n",
      "💾 Checkpoint guardado en fila 39000\n"
     ]
    },
    {
     "name": "stderr",
     "output_type": "stream",
     "text": [
      "🔍 Procesando descripciones:  33%|███▎      | 40000/120784 [49:37:21<125:17:29,  5.58s/it]"
     ]
    },
    {
     "name": "stdout",
     "output_type": "stream",
     "text": [
      "\n",
      "✅ Guardado parcial en fila 40000\n",
      "💾 Checkpoint guardado en fila 40000\n"
     ]
    },
    {
     "name": "stderr",
     "output_type": "stream",
     "text": [
      "🔍 Procesando descripciones:  34%|███▍      | 41000/120784 [50:53:02<118:32:21,  5.35s/it]"
     ]
    },
    {
     "name": "stdout",
     "output_type": "stream",
     "text": [
      "\n",
      "✅ Guardado parcial en fila 41000\n",
      "💾 Checkpoint guardado en fila 41000\n"
     ]
    },
    {
     "name": "stderr",
     "output_type": "stream",
     "text": [
      "🔍 Procesando descripciones:  35%|███▍      | 42000/120784 [52:09:14<101:19:35,  4.63s/it]"
     ]
    },
    {
     "name": "stdout",
     "output_type": "stream",
     "text": [
      "\n",
      "✅ Guardado parcial en fila 42000\n",
      "💾 Checkpoint guardado en fila 42000\n"
     ]
    },
    {
     "name": "stderr",
     "output_type": "stream",
     "text": [
      "🔍 Procesando descripciones:  36%|███▌      | 43000/120784 [53:26:31<105:05:40,  4.86s/it]"
     ]
    },
    {
     "name": "stdout",
     "output_type": "stream",
     "text": [
      "\n",
      "✅ Guardado parcial en fila 43000\n",
      "💾 Checkpoint guardado en fila 43000\n"
     ]
    },
    {
     "name": "stderr",
     "output_type": "stream",
     "text": [
      "🔍 Procesando descripciones:  36%|███▋      | 44000/120784 [54:42:36<103:08:35,  4.84s/it]"
     ]
    },
    {
     "name": "stdout",
     "output_type": "stream",
     "text": [
      "\n",
      "✅ Guardado parcial en fila 44000\n",
      "💾 Checkpoint guardado en fila 44000\n"
     ]
    },
    {
     "name": "stderr",
     "output_type": "stream",
     "text": [
      "🔍 Procesando descripciones:  37%|███▋      | 45000/120784 [56:07:20<106:07:22,  5.04s/it]"
     ]
    },
    {
     "name": "stdout",
     "output_type": "stream",
     "text": [
      "\n",
      "✅ Guardado parcial en fila 45000\n",
      "💾 Checkpoint guardado en fila 45000\n"
     ]
    },
    {
     "name": "stderr",
     "output_type": "stream",
     "text": [
      "🔍 Procesando descripciones:  38%|███▊      | 46000/120784 [57:32:05<117:39:35,  5.66s/it]"
     ]
    },
    {
     "name": "stdout",
     "output_type": "stream",
     "text": [
      "\n",
      "✅ Guardado parcial en fila 46000\n",
      "💾 Checkpoint guardado en fila 46000\n"
     ]
    },
    {
     "name": "stderr",
     "output_type": "stream",
     "text": [
      "🔍 Procesando descripciones:  39%|███▉      | 47000/120784 [58:56:52<100:11:32,  4.89s/it]"
     ]
    },
    {
     "name": "stdout",
     "output_type": "stream",
     "text": [
      "\n",
      "✅ Guardado parcial en fila 47000\n",
      "💾 Checkpoint guardado en fila 47000\n"
     ]
    },
    {
     "name": "stderr",
     "output_type": "stream",
     "text": [
      "🔍 Procesando descripciones:  40%|███▉      | 48000/120784 [60:03:38<73:20:07,  3.63s/it] "
     ]
    },
    {
     "name": "stdout",
     "output_type": "stream",
     "text": [
      "\n",
      "✅ Guardado parcial en fila 48000\n",
      "💾 Checkpoint guardado en fila 48000\n"
     ]
    },
    {
     "name": "stderr",
     "output_type": "stream",
     "text": [
      "🔍 Procesando descripciones:  41%|████      | 49000/120784 [61:13:33<100:22:04,  5.03s/it]"
     ]
    },
    {
     "name": "stdout",
     "output_type": "stream",
     "text": [
      "\n",
      "✅ Guardado parcial en fila 49000\n",
      "💾 Checkpoint guardado en fila 49000\n"
     ]
    },
    {
     "name": "stderr",
     "output_type": "stream",
     "text": [
      "🔍 Procesando descripciones:  41%|████▏     | 50000/120784 [62:23:05<100:40:19,  5.12s/it]"
     ]
    },
    {
     "name": "stdout",
     "output_type": "stream",
     "text": [
      "\n",
      "✅ Guardado parcial en fila 50000\n",
      "💾 Checkpoint guardado en fila 50000\n"
     ]
    },
    {
     "name": "stderr",
     "output_type": "stream",
     "text": [
      "🔍 Procesando descripciones:  42%|████▏     | 51000/120784 [63:30:19<52:22:43,  2.70s/it] "
     ]
    },
    {
     "name": "stdout",
     "output_type": "stream",
     "text": [
      "\n",
      "✅ Guardado parcial en fila 51000\n",
      "💾 Checkpoint guardado en fila 51000\n"
     ]
    },
    {
     "name": "stderr",
     "output_type": "stream",
     "text": [
      "🔍 Procesando descripciones:  43%|████▎     | 52000/120784 [64:16:13<86:03:54,  4.50s/it] "
     ]
    },
    {
     "name": "stdout",
     "output_type": "stream",
     "text": [
      "\n",
      "✅ Guardado parcial en fila 52000\n",
      "💾 Checkpoint guardado en fila 52000\n"
     ]
    },
    {
     "name": "stderr",
     "output_type": "stream",
     "text": [
      "🔍 Procesando descripciones:  44%|████▍     | 53000/120784 [65:15:43<52:37:23,  2.79s/it] "
     ]
    },
    {
     "name": "stdout",
     "output_type": "stream",
     "text": [
      "\n",
      "✅ Guardado parcial en fila 53000\n",
      "💾 Checkpoint guardado en fila 53000\n"
     ]
    },
    {
     "name": "stderr",
     "output_type": "stream",
     "text": [
      "🔍 Procesando descripciones:  45%|████▍     | 54000/120784 [66:15:56<54:30:21,  2.94s/it] "
     ]
    },
    {
     "name": "stdout",
     "output_type": "stream",
     "text": [
      "\n",
      "✅ Guardado parcial en fila 54000\n",
      "💾 Checkpoint guardado en fila 54000\n"
     ]
    },
    {
     "name": "stderr",
     "output_type": "stream",
     "text": [
      "🔍 Procesando descripciones:  46%|████▌     | 55000/120784 [67:15:32<61:50:42,  3.38s/it] "
     ]
    },
    {
     "name": "stdout",
     "output_type": "stream",
     "text": [
      "\n",
      "✅ Guardado parcial en fila 55000\n",
      "💾 Checkpoint guardado en fila 55000\n"
     ]
    },
    {
     "name": "stderr",
     "output_type": "stream",
     "text": [
      "🔍 Procesando descripciones:  46%|████▋     | 56000/120784 [68:13:47<95:55:14,  5.33s/it] "
     ]
    },
    {
     "name": "stdout",
     "output_type": "stream",
     "text": [
      "\n",
      "✅ Guardado parcial en fila 56000\n",
      "💾 Checkpoint guardado en fila 56000\n"
     ]
    },
    {
     "name": "stderr",
     "output_type": "stream",
     "text": [
      "🔍 Procesando descripciones:  47%|████▋     | 57000/120784 [69:24:43<103:46:30,  5.86s/it]"
     ]
    },
    {
     "name": "stdout",
     "output_type": "stream",
     "text": [
      "\n",
      "✅ Guardado parcial en fila 57000\n",
      "💾 Checkpoint guardado en fila 57000\n"
     ]
    },
    {
     "name": "stderr",
     "output_type": "stream",
     "text": [
      "🔍 Procesando descripciones:  48%|████▊     | 58000/120784 [70:43:34<72:24:26,  4.15s/it] "
     ]
    },
    {
     "name": "stdout",
     "output_type": "stream",
     "text": [
      "\n",
      "✅ Guardado parcial en fila 58000\n",
      "💾 Checkpoint guardado en fila 58000\n"
     ]
    },
    {
     "name": "stderr",
     "output_type": "stream",
     "text": [
      "🔍 Procesando descripciones:  49%|████▉     | 59000/120784 [71:53:47<24:58:49,  1.46s/it] "
     ]
    },
    {
     "name": "stdout",
     "output_type": "stream",
     "text": [
      "\n",
      "✅ Guardado parcial en fila 59000\n",
      "💾 Checkpoint guardado en fila 59000\n"
     ]
    },
    {
     "name": "stderr",
     "output_type": "stream",
     "text": [
      "🔍 Procesando descripciones:  50%|████▉     | 60000/120784 [72:45:31<42:23:13,  2.51s/it]"
     ]
    },
    {
     "name": "stdout",
     "output_type": "stream",
     "text": [
      "\n",
      "✅ Guardado parcial en fila 60000\n",
      "💾 Checkpoint guardado en fila 60000\n"
     ]
    },
    {
     "name": "stderr",
     "output_type": "stream",
     "text": [
      "🔍 Procesando descripciones:  51%|█████     | 61000/120784 [73:38:02<91:27:21,  5.51s/it]"
     ]
    },
    {
     "name": "stdout",
     "output_type": "stream",
     "text": [
      "\n",
      "✅ Guardado parcial en fila 61000\n",
      "💾 Checkpoint guardado en fila 61000\n"
     ]
    },
    {
     "name": "stderr",
     "output_type": "stream",
     "text": [
      "🔍 Procesando descripciones:  51%|█████▏    | 62000/120784 [74:32:06<69:26:50,  4.25s/it]"
     ]
    },
    {
     "name": "stdout",
     "output_type": "stream",
     "text": [
      "\n",
      "✅ Guardado parcial en fila 62000\n",
      "💾 Checkpoint guardado en fila 62000\n"
     ]
    },
    {
     "name": "stderr",
     "output_type": "stream",
     "text": [
      "🔍 Procesando descripciones:  52%|█████▏    | 63000/120784 [75:25:41<75:26:31,  4.70s/it]"
     ]
    },
    {
     "name": "stdout",
     "output_type": "stream",
     "text": [
      "\n",
      "✅ Guardado parcial en fila 63000\n",
      "💾 Checkpoint guardado en fila 63000\n"
     ]
    },
    {
     "name": "stderr",
     "output_type": "stream",
     "text": [
      "🔍 Procesando descripciones:  53%|█████▎    | 64000/120784 [76:40:22<79:14:27,  5.02s/it]"
     ]
    },
    {
     "name": "stdout",
     "output_type": "stream",
     "text": [
      "\n",
      "✅ Guardado parcial en fila 64000\n",
      "💾 Checkpoint guardado en fila 64000\n"
     ]
    },
    {
     "name": "stderr",
     "output_type": "stream",
     "text": [
      "🔍 Procesando descripciones:  54%|█████▍    | 65000/120784 [77:55:58<56:02:43,  3.62s/it]"
     ]
    },
    {
     "name": "stdout",
     "output_type": "stream",
     "text": [
      "\n",
      "✅ Guardado parcial en fila 65000\n",
      "💾 Checkpoint guardado en fila 65000\n"
     ]
    },
    {
     "name": "stderr",
     "output_type": "stream",
     "text": [
      "🔍 Procesando descripciones:  55%|█████▍    | 66000/120784 [78:48:17<48:33:54,  3.19s/it]"
     ]
    },
    {
     "name": "stdout",
     "output_type": "stream",
     "text": [
      "\n",
      "✅ Guardado parcial en fila 66000\n",
      "💾 Checkpoint guardado en fila 66000\n"
     ]
    },
    {
     "name": "stderr",
     "output_type": "stream",
     "text": [
      "🔍 Procesando descripciones:  55%|█████▌    | 67000/120784 [79:32:37<38:33:31,  2.58s/it]"
     ]
    },
    {
     "name": "stdout",
     "output_type": "stream",
     "text": [
      "\n",
      "✅ Guardado parcial en fila 67000\n",
      "💾 Checkpoint guardado en fila 67000\n"
     ]
    },
    {
     "name": "stderr",
     "output_type": "stream",
     "text": [
      "🔍 Procesando descripciones:  56%|█████▋    | 68000/120784 [80:17:45<44:01:30,  3.00s/it]"
     ]
    },
    {
     "name": "stdout",
     "output_type": "stream",
     "text": [
      "\n",
      "✅ Guardado parcial en fila 68000\n",
      "💾 Checkpoint guardado en fila 68000\n"
     ]
    },
    {
     "name": "stderr",
     "output_type": "stream",
     "text": [
      "🔍 Procesando descripciones:  57%|█████▋    | 69000/120784 [81:00:23<18:12:48,  1.27s/it]"
     ]
    },
    {
     "name": "stdout",
     "output_type": "stream",
     "text": [
      "\n",
      "✅ Guardado parcial en fila 69000\n",
      "💾 Checkpoint guardado en fila 69000\n"
     ]
    },
    {
     "name": "stderr",
     "output_type": "stream",
     "text": [
      "🔍 Procesando descripciones:  58%|█████▊    | 70000/120784 [81:53:45<52:15:09,  3.70s/it]"
     ]
    },
    {
     "name": "stdout",
     "output_type": "stream",
     "text": [
      "\n",
      "✅ Guardado parcial en fila 70000\n",
      "💾 Checkpoint guardado en fila 70000\n"
     ]
    },
    {
     "name": "stderr",
     "output_type": "stream",
     "text": [
      "🔍 Procesando descripciones:  59%|█████▉    | 71000/120784 [82:47:43<48:23:36,  3.50s/it]"
     ]
    },
    {
     "name": "stdout",
     "output_type": "stream",
     "text": [
      "\n",
      "✅ Guardado parcial en fila 71000\n",
      "💾 Checkpoint guardado en fila 71000\n"
     ]
    },
    {
     "name": "stderr",
     "output_type": "stream",
     "text": [
      "🔍 Procesando descripciones:  60%|█████▉    | 72000/120784 [83:40:54<32:49:23,  2.42s/it]"
     ]
    },
    {
     "name": "stdout",
     "output_type": "stream",
     "text": [
      "\n",
      "✅ Guardado parcial en fila 72000\n",
      "💾 Checkpoint guardado en fila 72000\n"
     ]
    },
    {
     "name": "stderr",
     "output_type": "stream",
     "text": [
      "🔍 Procesando descripciones:  60%|██████    | 73000/120784 [84:42:04<77:19:28,  5.83s/it]"
     ]
    },
    {
     "name": "stdout",
     "output_type": "stream",
     "text": [
      "\n",
      "✅ Guardado parcial en fila 73000\n",
      "💾 Checkpoint guardado en fila 73000\n"
     ]
    },
    {
     "name": "stderr",
     "output_type": "stream",
     "text": [
      "🔍 Procesando descripciones:  61%|██████▏   | 74000/120784 [86:09:42<57:25:15,  4.42s/it]"
     ]
    },
    {
     "name": "stdout",
     "output_type": "stream",
     "text": [
      "\n",
      "✅ Guardado parcial en fila 74000\n",
      "💾 Checkpoint guardado en fila 74000\n"
     ]
    },
    {
     "name": "stderr",
     "output_type": "stream",
     "text": [
      "🔍 Procesando descripciones:  62%|██████▏   | 75000/120784 [87:09:12<32:01:49,  2.52s/it]"
     ]
    },
    {
     "name": "stdout",
     "output_type": "stream",
     "text": [
      "\n",
      "✅ Guardado parcial en fila 75000\n",
      "💾 Checkpoint guardado en fila 75000\n"
     ]
    },
    {
     "name": "stderr",
     "output_type": "stream",
     "text": [
      "🔍 Procesando descripciones:  63%|██████▎   | 76000/120784 [88:06:08<64:12:15,  5.16s/it]"
     ]
    },
    {
     "name": "stdout",
     "output_type": "stream",
     "text": [
      "\n",
      "✅ Guardado parcial en fila 76000\n",
      "💾 Checkpoint guardado en fila 76000\n"
     ]
    },
    {
     "name": "stderr",
     "output_type": "stream",
     "text": [
      "🔍 Procesando descripciones:  64%|██████▍   | 77000/120784 [89:03:13<28:40:43,  2.36s/it]"
     ]
    },
    {
     "name": "stdout",
     "output_type": "stream",
     "text": [
      "\n",
      "✅ Guardado parcial en fila 77000\n",
      "💾 Checkpoint guardado en fila 77000\n"
     ]
    },
    {
     "name": "stderr",
     "output_type": "stream",
     "text": [
      "🔍 Procesando descripciones:  65%|██████▍   | 78000/120784 [90:01:57<28:12:30,  2.37s/it]"
     ]
    },
    {
     "name": "stdout",
     "output_type": "stream",
     "text": [
      "\n",
      "✅ Guardado parcial en fila 78000\n",
      "💾 Checkpoint guardado en fila 78000\n"
     ]
    },
    {
     "name": "stderr",
     "output_type": "stream",
     "text": [
      "🔍 Procesando descripciones:  65%|██████▌   | 79000/120784 [91:13:35<56:49:19,  4.90s/it]"
     ]
    },
    {
     "name": "stdout",
     "output_type": "stream",
     "text": [
      "\n",
      "✅ Guardado parcial en fila 79000\n",
      "💾 Checkpoint guardado en fila 79000\n"
     ]
    },
    {
     "name": "stderr",
     "output_type": "stream",
     "text": [
      "🔍 Procesando descripciones:  66%|██████▌   | 80000/120784 [92:37:47<53:45:33,  4.75s/it]"
     ]
    },
    {
     "name": "stdout",
     "output_type": "stream",
     "text": [
      "\n",
      "✅ Guardado parcial en fila 80000\n",
      "💾 Checkpoint guardado en fila 80000\n"
     ]
    },
    {
     "name": "stderr",
     "output_type": "stream",
     "text": [
      "🔍 Procesando descripciones:  67%|██████▋   | 81000/120784 [93:52:18<33:05:07,  2.99s/it]"
     ]
    },
    {
     "name": "stdout",
     "output_type": "stream",
     "text": [
      "\n",
      "✅ Guardado parcial en fila 81000\n",
      "💾 Checkpoint guardado en fila 81000\n"
     ]
    },
    {
     "name": "stderr",
     "output_type": "stream",
     "text": [
      "🔍 Procesando descripciones:  68%|██████▊   | 82000/120784 [94:47:34<29:43:50,  2.76s/it]"
     ]
    },
    {
     "name": "stdout",
     "output_type": "stream",
     "text": [
      "\n",
      "✅ Guardado parcial en fila 82000\n",
      "💾 Checkpoint guardado en fila 82000\n"
     ]
    },
    {
     "name": "stderr",
     "output_type": "stream",
     "text": [
      "🔍 Procesando descripciones:  69%|██████▊   | 83000/120784 [95:42:02<33:02:39,  3.15s/it]"
     ]
    },
    {
     "name": "stdout",
     "output_type": "stream",
     "text": [
      "\n",
      "✅ Guardado parcial en fila 83000\n",
      "💾 Checkpoint guardado en fila 83000\n"
     ]
    },
    {
     "name": "stderr",
     "output_type": "stream",
     "text": [
      "🔍 Procesando descripciones:  70%|██████▉   | 84000/120784 [96:36:03<21:12:28,  2.08s/it]"
     ]
    },
    {
     "name": "stdout",
     "output_type": "stream",
     "text": [
      "\n",
      "✅ Guardado parcial en fila 84000\n",
      "💾 Checkpoint guardado en fila 84000\n"
     ]
    },
    {
     "name": "stderr",
     "output_type": "stream",
     "text": [
      "🔍 Procesando descripciones:  70%|███████   | 85000/120784 [97:26:47<50:31:15,  5.08s/it]"
     ]
    },
    {
     "name": "stdout",
     "output_type": "stream",
     "text": [
      "\n",
      "✅ Guardado parcial en fila 85000\n",
      "💾 Checkpoint guardado en fila 85000\n"
     ]
    },
    {
     "name": "stderr",
     "output_type": "stream",
     "text": [
      "🔍 Procesando descripciones:  71%|███████   | 86000/120784 [98:47:12<57:24:09,  5.94s/it]"
     ]
    },
    {
     "name": "stdout",
     "output_type": "stream",
     "text": [
      "\n",
      "✅ Guardado parcial en fila 86000\n",
      "💾 Checkpoint guardado en fila 86000\n"
     ]
    },
    {
     "name": "stderr",
     "output_type": "stream",
     "text": [
      "🔍 Procesando descripciones:  72%|███████▏  | 87000/120784 [100:08:38<52:19:12,  5.58s/it]"
     ]
    },
    {
     "name": "stdout",
     "output_type": "stream",
     "text": [
      "\n",
      "✅ Guardado parcial en fila 87000\n",
      "💾 Checkpoint guardado en fila 87000\n"
     ]
    },
    {
     "name": "stderr",
     "output_type": "stream",
     "text": [
      "🔍 Procesando descripciones:  73%|███████▎  | 88000/120784 [101:13:06<34:59:59,  3.84s/it]"
     ]
    },
    {
     "name": "stdout",
     "output_type": "stream",
     "text": [
      "\n",
      "✅ Guardado parcial en fila 88000\n",
      "💾 Checkpoint guardado en fila 88000\n"
     ]
    },
    {
     "name": "stderr",
     "output_type": "stream",
     "text": [
      "🔍 Procesando descripciones:  74%|███████▎  | 89000/120784 [102:17:52<47:53:01,  5.42s/it]"
     ]
    },
    {
     "name": "stdout",
     "output_type": "stream",
     "text": [
      "\n",
      "✅ Guardado parcial en fila 89000\n",
      "💾 Checkpoint guardado en fila 89000\n"
     ]
    },
    {
     "name": "stderr",
     "output_type": "stream",
     "text": [
      "🔍 Procesando descripciones:  75%|███████▍  | 90000/120784 [103:22:59<29:36:54,  3.46s/it]"
     ]
    },
    {
     "name": "stdout",
     "output_type": "stream",
     "text": [
      "\n",
      "✅ Guardado parcial en fila 90000\n",
      "💾 Checkpoint guardado en fila 90000\n"
     ]
    },
    {
     "name": "stderr",
     "output_type": "stream",
     "text": [
      "🔍 Procesando descripciones:  75%|███████▌  | 91000/120784 [104:38:25<46:00:26,  5.56s/it]"
     ]
    },
    {
     "name": "stdout",
     "output_type": "stream",
     "text": [
      "\n",
      "✅ Guardado parcial en fila 91000\n",
      "💾 Checkpoint guardado en fila 91000\n"
     ]
    },
    {
     "name": "stderr",
     "output_type": "stream",
     "text": [
      "🔍 Procesando descripciones:  76%|███████▌  | 92000/120784 [106:03:18<45:43:06,  5.72s/it]"
     ]
    },
    {
     "name": "stdout",
     "output_type": "stream",
     "text": [
      "\n",
      "✅ Guardado parcial en fila 92000\n",
      "💾 Checkpoint guardado en fila 92000\n"
     ]
    },
    {
     "name": "stderr",
     "output_type": "stream",
     "text": [
      "🔍 Procesando descripciones:  77%|███████▋  | 93000/120784 [107:10:09<29:41:58,  3.85s/it]"
     ]
    },
    {
     "name": "stdout",
     "output_type": "stream",
     "text": [
      "\n",
      "✅ Guardado parcial en fila 93000\n",
      "💾 Checkpoint guardado en fila 93000\n"
     ]
    },
    {
     "name": "stderr",
     "output_type": "stream",
     "text": [
      "🔍 Procesando descripciones:  78%|███████▊  | 94000/120784 [108:18:55<24:50:58,  3.34s/it]"
     ]
    },
    {
     "name": "stdout",
     "output_type": "stream",
     "text": [
      "\n",
      "✅ Guardado parcial en fila 94000\n",
      "💾 Checkpoint guardado en fila 94000\n"
     ]
    },
    {
     "name": "stderr",
     "output_type": "stream",
     "text": [
      "🔍 Procesando descripciones:  79%|███████▊  | 95000/120784 [109:25:42<30:11:14,  4.21s/it]"
     ]
    },
    {
     "name": "stdout",
     "output_type": "stream",
     "text": [
      "\n",
      "✅ Guardado parcial en fila 95000\n",
      "💾 Checkpoint guardado en fila 95000\n"
     ]
    },
    {
     "name": "stderr",
     "output_type": "stream",
     "text": [
      "🔍 Procesando descripciones:  79%|███████▉  | 96000/120784 [110:20:54<9:51:00,  1.43s/it] "
     ]
    },
    {
     "name": "stdout",
     "output_type": "stream",
     "text": [
      "\n",
      "✅ Guardado parcial en fila 96000\n",
      "💾 Checkpoint guardado en fila 96000\n"
     ]
    },
    {
     "name": "stderr",
     "output_type": "stream",
     "text": [
      "🔍 Procesando descripciones:  80%|████████  | 97000/120784 [110:58:34<24:54:21,  3.77s/it]"
     ]
    },
    {
     "name": "stdout",
     "output_type": "stream",
     "text": [
      "\n",
      "✅ Guardado parcial en fila 97000\n",
      "💾 Checkpoint guardado en fila 97000\n"
     ]
    },
    {
     "name": "stderr",
     "output_type": "stream",
     "text": [
      "🔍 Procesando descripciones:  81%|████████  | 98000/120784 [111:42:17<17:56:24,  2.83s/it]"
     ]
    },
    {
     "name": "stdout",
     "output_type": "stream",
     "text": [
      "\n",
      "✅ Guardado parcial en fila 98000\n",
      "💾 Checkpoint guardado en fila 98000\n"
     ]
    },
    {
     "name": "stderr",
     "output_type": "stream",
     "text": [
      "🔍 Procesando descripciones:  82%|████████▏ | 99000/120784 [112:26:31<11:00:36,  1.82s/it]"
     ]
    },
    {
     "name": "stdout",
     "output_type": "stream",
     "text": [
      "\n",
      "✅ Guardado parcial en fila 99000\n",
      "💾 Checkpoint guardado en fila 99000\n"
     ]
    },
    {
     "name": "stderr",
     "output_type": "stream",
     "text": [
      "🔍 Procesando descripciones:  83%|████████▎ | 100000/120784 [113:09:42<26:39:01,  4.62s/it]"
     ]
    },
    {
     "name": "stdout",
     "output_type": "stream",
     "text": [
      "\n",
      "✅ Guardado parcial en fila 100000\n",
      "💾 Checkpoint guardado en fila 100000\n"
     ]
    },
    {
     "name": "stderr",
     "output_type": "stream",
     "text": [
      "🔍 Procesando descripciones:  84%|████████▎ | 101000/120784 [114:13:52<23:38:21,  4.30s/it]"
     ]
    },
    {
     "name": "stdout",
     "output_type": "stream",
     "text": [
      "\n",
      "✅ Guardado parcial en fila 101000\n",
      "💾 Checkpoint guardado en fila 101000\n"
     ]
    },
    {
     "name": "stderr",
     "output_type": "stream",
     "text": [
      "🔍 Procesando descripciones:  84%|████████▍ | 102000/120784 [115:19:59<21:03:36,  4.04s/it]"
     ]
    },
    {
     "name": "stdout",
     "output_type": "stream",
     "text": [
      "\n",
      "✅ Guardado parcial en fila 102000\n",
      "💾 Checkpoint guardado en fila 102000\n"
     ]
    },
    {
     "name": "stderr",
     "output_type": "stream",
     "text": [
      "🔍 Procesando descripciones:  85%|████████▌ | 103000/120784 [116:23:20<20:47:14,  4.21s/it]"
     ]
    },
    {
     "name": "stdout",
     "output_type": "stream",
     "text": [
      "\n",
      "✅ Guardado parcial en fila 103000\n",
      "💾 Checkpoint guardado en fila 103000\n"
     ]
    },
    {
     "name": "stderr",
     "output_type": "stream",
     "text": [
      "🔍 Procesando descripciones:  86%|████████▌ | 104000/120784 [117:21:54<18:20:47,  3.94s/it]"
     ]
    },
    {
     "name": "stdout",
     "output_type": "stream",
     "text": [
      "\n",
      "✅ Guardado parcial en fila 104000\n",
      "💾 Checkpoint guardado en fila 104000\n"
     ]
    },
    {
     "name": "stderr",
     "output_type": "stream",
     "text": [
      "🔍 Procesando descripciones:  87%|████████▋ | 105000/120784 [118:12:56<5:53:18,  1.34s/it] "
     ]
    },
    {
     "name": "stdout",
     "output_type": "stream",
     "text": [
      "\n",
      "✅ Guardado parcial en fila 105000\n",
      "💾 Checkpoint guardado en fila 105000\n"
     ]
    },
    {
     "name": "stderr",
     "output_type": "stream",
     "text": [
      "🔍 Procesando descripciones:  88%|████████▊ | 106000/120784 [118:46:28<16:48:46,  4.09s/it]"
     ]
    },
    {
     "name": "stdout",
     "output_type": "stream",
     "text": [
      "\n",
      "✅ Guardado parcial en fila 106000\n",
      "💾 Checkpoint guardado en fila 106000\n"
     ]
    },
    {
     "name": "stderr",
     "output_type": "stream",
     "text": [
      "🔍 Procesando descripciones:  89%|████████▊ | 107000/120784 [119:38:32<16:03:25,  4.19s/it]"
     ]
    },
    {
     "name": "stdout",
     "output_type": "stream",
     "text": [
      "\n",
      "✅ Guardado parcial en fila 107000\n",
      "💾 Checkpoint guardado en fila 107000\n"
     ]
    },
    {
     "name": "stderr",
     "output_type": "stream",
     "text": [
      "🔍 Procesando descripciones:  89%|████████▉ | 108000/120784 [120:29:07<12:02:28,  3.39s/it]"
     ]
    },
    {
     "name": "stdout",
     "output_type": "stream",
     "text": [
      "\n",
      "✅ Guardado parcial en fila 108000\n",
      "💾 Checkpoint guardado en fila 108000\n"
     ]
    },
    {
     "name": "stderr",
     "output_type": "stream",
     "text": [
      "🔍 Procesando descripciones:  90%|█████████ | 109000/120784 [121:08:49<3:42:02,  1.13s/it] "
     ]
    },
    {
     "name": "stdout",
     "output_type": "stream",
     "text": [
      "\n",
      "✅ Guardado parcial en fila 109000\n",
      "💾 Checkpoint guardado en fila 109000\n"
     ]
    },
    {
     "name": "stderr",
     "output_type": "stream",
     "text": [
      "🔍 Procesando descripciones:  91%|█████████ | 110000/120784 [121:34:34<3:22:46,  1.13s/it] "
     ]
    },
    {
     "name": "stdout",
     "output_type": "stream",
     "text": [
      "\n",
      "✅ Guardado parcial en fila 110000\n",
      "💾 Checkpoint guardado en fila 110000\n"
     ]
    },
    {
     "name": "stderr",
     "output_type": "stream",
     "text": [
      "🔍 Procesando descripciones:  92%|█████████▏| 111000/120784 [121:59:18<3:04:05,  1.13s/it] "
     ]
    },
    {
     "name": "stdout",
     "output_type": "stream",
     "text": [
      "\n",
      "✅ Guardado parcial en fila 111000\n",
      "💾 Checkpoint guardado en fila 111000\n"
     ]
    },
    {
     "name": "stderr",
     "output_type": "stream",
     "text": [
      "🔍 Procesando descripciones:  93%|█████████▎| 112000/120784 [122:24:29<3:16:22,  1.34s/it]"
     ]
    },
    {
     "name": "stdout",
     "output_type": "stream",
     "text": [
      "\n",
      "✅ Guardado parcial en fila 112000\n",
      "💾 Checkpoint guardado en fila 112000\n"
     ]
    },
    {
     "name": "stderr",
     "output_type": "stream",
     "text": [
      "🔍 Procesando descripciones:  94%|█████████▎| 113000/120784 [122:51:57<2:36:18,  1.20s/it] "
     ]
    },
    {
     "name": "stdout",
     "output_type": "stream",
     "text": [
      "\n",
      "✅ Guardado parcial en fila 113000\n",
      "💾 Checkpoint guardado en fila 113000\n"
     ]
    },
    {
     "name": "stderr",
     "output_type": "stream",
     "text": [
      "🔍 Procesando descripciones:  94%|█████████▍| 114000/120784 [123:20:40<4:04:19,  2.16s/it]"
     ]
    },
    {
     "name": "stdout",
     "output_type": "stream",
     "text": [
      "\n",
      "✅ Guardado parcial en fila 114000\n",
      "💾 Checkpoint guardado en fila 114000\n"
     ]
    },
    {
     "name": "stderr",
     "output_type": "stream",
     "text": [
      "🔍 Procesando descripciones:  95%|█████████▌| 115000/120784 [123:45:57<1:55:49,  1.20s/it]"
     ]
    },
    {
     "name": "stdout",
     "output_type": "stream",
     "text": [
      "\n",
      "✅ Guardado parcial en fila 115000\n",
      "💾 Checkpoint guardado en fila 115000\n"
     ]
    },
    {
     "name": "stderr",
     "output_type": "stream",
     "text": [
      "🔍 Procesando descripciones:  96%|█████████▌| 116000/120784 [124:12:12<1:26:11,  1.08s/it]"
     ]
    },
    {
     "name": "stdout",
     "output_type": "stream",
     "text": [
      "\n",
      "✅ Guardado parcial en fila 116000\n",
      "💾 Checkpoint guardado en fila 116000\n"
     ]
    },
    {
     "name": "stderr",
     "output_type": "stream",
     "text": [
      "🔍 Procesando descripciones:  97%|█████████▋| 117000/120784 [124:38:10<1:29:14,  1.42s/it]"
     ]
    },
    {
     "name": "stdout",
     "output_type": "stream",
     "text": [
      "\n",
      "✅ Guardado parcial en fila 117000\n",
      "💾 Checkpoint guardado en fila 117000\n"
     ]
    },
    {
     "name": "stderr",
     "output_type": "stream",
     "text": [
      "🔍 Procesando descripciones:  98%|█████████▊| 118000/120784 [125:05:43<2:43:59,  3.53s/it]"
     ]
    },
    {
     "name": "stdout",
     "output_type": "stream",
     "text": [
      "\n",
      "✅ Guardado parcial en fila 118000\n",
      "💾 Checkpoint guardado en fila 118000\n"
     ]
    },
    {
     "name": "stderr",
     "output_type": "stream",
     "text": [
      "🔍 Procesando descripciones:  99%|█████████▊| 119000/120784 [125:32:12<36:46,  1.24s/it]  "
     ]
    },
    {
     "name": "stdout",
     "output_type": "stream",
     "text": [
      "\n",
      "✅ Guardado parcial en fila 119000\n",
      "💾 Checkpoint guardado en fila 119000\n"
     ]
    },
    {
     "name": "stderr",
     "output_type": "stream",
     "text": [
      "🔍 Procesando descripciones:  99%|█████████▉| 120000/120784 [125:56:38<35:21,  2.71s/it]  "
     ]
    },
    {
     "name": "stdout",
     "output_type": "stream",
     "text": [
      "\n",
      "✅ Guardado parcial en fila 120000\n",
      "💾 Checkpoint guardado en fila 120000\n"
     ]
    },
    {
     "name": "stderr",
     "output_type": "stream",
     "text": [
      "🔍 Procesando descripciones: 100%|██████████| 120784/120784 [126:17:20<00:00,  3.76s/it]"
     ]
    },
    {
     "name": "stdout",
     "output_type": "stream",
     "text": [
      "\n",
      "✅ Guardado parcial en fila 120784\n",
      "💾 Checkpoint guardado en fila 120784\n"
     ]
    },
    {
     "name": "stderr",
     "output_type": "stream",
     "text": [
      "\n"
     ]
    },
    {
     "name": "stdout",
     "output_type": "stream",
     "text": [
      "🗑️ Checkpoint eliminado.\n",
      "✅ Zero-Shot completado y guardado en: MODELADO_FINAL.csv\n"
     ]
    }
   ],
   "source": [
    "import os\n",
    "import pandas as pd\n",
    "import torch\n",
    "from transformers import pipeline\n",
    "from tqdm import tqdm\n",
    "import statistics\n",
    "import pickle\n",
    "\n",
    "# Cargar dataset\n",
    "df = pd.read_csv('LIMPIO.csv')\n",
    "\n",
    "# Descripciones de trabajo\n",
    "descriptions = df[\"description_full\"].fillna('')\n",
    "\n",
    "# Detectar si hay GPU disponible\n",
    "device = 0 if torch.cuda.is_available() else -1\n",
    "\n",
    "# Cargar modelo zero-shot\n",
    "classifier = pipeline(\"zero-shot-classification\", model=\"facebook/bart-large-mnli\", device=device)\n",
    "\n",
    "# Asegurar que el diccionario 'labels' está definido\n",
    "label_dict = labels  # <- asegúrate de que esté definido antes de ejecutar\n",
    "\n",
    "# Inicializar resultados\n",
    "results = {key: [] for key in label_dict}\n",
    "\n",
    "# Parámetros de guardado\n",
    "chunk_size = 1000\n",
    "output_file = 'MODELADO_FINAL.csv'\n",
    "checkpoint_file = 'checkpoint.pkl'\n",
    "\n",
    "# Cargar checkpoint si existe\n",
    "start_index = 0\n",
    "if os.path.exists(checkpoint_file):\n",
    "    with open(checkpoint_file, 'rb') as f:\n",
    "        checkpoint = pickle.load(f)\n",
    "        results = checkpoint['results']\n",
    "        start_index = checkpoint['last_index'] + 1\n",
    "        print(f\"🔁 Reanudando desde la fila {start_index}\")\n",
    "\n",
    "# Clasificar descripciones con barra de progreso\n",
    "progress_bar = tqdm(range(start_index, len(descriptions)), desc=\"🔍 Procesando descripciones\")\n",
    "\n",
    "for i in progress_bar:\n",
    "    desc = descriptions[i]\n",
    "    try:\n",
    "        for category, prompts in label_dict.items():\n",
    "            scores = []\n",
    "            for prompt in prompts:\n",
    "                output = classifier(desc, candidate_labels=[prompt])\n",
    "                scores.append(output['scores'][0])\n",
    "            avg_score = statistics.mean(scores)\n",
    "            results[category].append(avg_score)\n",
    "    except Exception as e:\n",
    "        print(f\"\\n⚠️ Error en desc {i}: {str(e)[:80]}...\")\n",
    "        for category in label_dict:\n",
    "            results[category].append(0)\n",
    "\n",
    "    # Guardado parcial y checkpoint\n",
    "    if (i + 1) % chunk_size == 0 or (i + 1) == len(descriptions):\n",
    "        partial_df = df.iloc[:i+1].copy()\n",
    "        for category, scores in results.items():\n",
    "            partial_df[category] = scores[:i+1]\n",
    "\n",
    "        # Guardado del CSV\n",
    "        if not os.path.isfile(output_file):\n",
    "            partial_df.to_csv(output_file, index=False)\n",
    "        else:\n",
    "            partial_df.tail(chunk_size).to_csv(output_file, mode='a', header=False, index=False)\n",
    "\n",
    "        print(f\"\\n✅ Guardado parcial en fila {i+1}\")\n",
    "\n",
    "        # Guardado del checkpoint\n",
    "        checkpoint_data = {\n",
    "            'results': results,\n",
    "            'last_index': i\n",
    "        }\n",
    "        with open(checkpoint_file, 'wb') as f:\n",
    "            pickle.dump(checkpoint_data, f)\n",
    "        print(f\"💾 Checkpoint guardado en fila {i+1}\")\n",
    "\n",
    "# Guardado final completo\n",
    "for category, scores in results.items():\n",
    "    df[category] = scores\n",
    "\n",
    "df.to_csv(output_file, index=False)\n",
    "\n",
    "# Eliminar el checkpoint final\n",
    "if os.path.exists(checkpoint_file):\n",
    "    os.remove(checkpoint_file)\n",
    "    print(\"🗑️ Checkpoint eliminado.\")\n",
    "\n",
    "print(f\"✅ Zero-Shot completado y guardado en: {output_file}\")\n"
   ]
  },
  {
   "cell_type": "code",
   "execution_count": null,
   "id": "42fff7f4",
   "metadata": {},
   "outputs": [],
   "source": [
    "# Recargar el DataFrame con clasificaciones, si fuera necesario\n",
    "df = pd.read_csv('MODELADO_FINAL.csv')\n",
    "\n",
    "# Agregar columnas de roles según el título\n",
    "df[\"intern_title\"] = df[\"title\"].str.contains(r\"\\bintern|trainee\\b\", case=False, na=False).astype(int)\n",
    "df[\"junior_title\"] = df[\"title\"].str.contains(r\"\\bjunior|jr\\b\", case=False, na=False).astype(int)\n",
    "df[\"senior_title\"] = df[\"title\"].str.contains(r\"\\bsenior|sr\\b\", case=False, na=False).astype(int)\n",
    "df[\"lead_title\"] = df[\"title\"].str.contains(r\"\\blead|team lead|tech lead\\b\", case=False, na=False).astype(int)\n",
    "df[\"principal_or_manager_title\"] = df[\"title\"].str.contains(r\"\\bprincipal|manager|head\\b\", case=False, na=False).astype(int)\n",
    "\n",
    "# Guardar con roles añadidos\n",
    "df.to_csv('MODELADO_FINAL_CON_TITULOS.csv', index=False)\n",
    "\n",
    "print(\"✅ Columnas de roles añadidas y archivo actualizado: MODELADO_FINAL_CON_TITULOS.csv\")"
   ]
  }
 ],
 "metadata": {
  "kernelspec": {
   "display_name": "mi_entorno",
   "language": "python",
   "name": "python3"
  },
  "language_info": {
   "codemirror_mode": {
    "name": "ipython",
    "version": 3
   },
   "file_extension": ".py",
   "mimetype": "text/x-python",
   "name": "python",
   "nbconvert_exporter": "python",
   "pygments_lexer": "ipython3",
   "version": "3.11.11"
  }
 },
 "nbformat": 4,
 "nbformat_minor": 5
}
